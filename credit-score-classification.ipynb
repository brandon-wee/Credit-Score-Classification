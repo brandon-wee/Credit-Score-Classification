{
 "cells": [
  {
   "cell_type": "markdown",
   "source": [
    "# Assignment 2 Jupyter Notebook\n",
    "## FIT1043 - Introduction to Data Science\n",
    "## Name: Brandon Wee Yong Jing\n",
    "## Student ID: 33561826\n",
    "\n",
    "This notebook will be used to hold all of the code for each task. Markdowns will be used to clearly distinguish between codes for different questions. Discussions and further analysis of results from code will be provided in the PDF document."
   ],
   "metadata": {
    "collapsed": false
   },
   "outputs": [
    {
     "ename": "SyntaxError",
     "evalue": "invalid syntax (2327859682.py, line 6)",
     "output_type": "error",
     "traceback": [
      "\u001B[1;36m  Cell \u001B[1;32mIn[1], line 6\u001B[1;36m\u001B[0m\n\u001B[1;33m    This notebook will be used to hold all of the code for each task. Markdowns will be used to clearly distinguish between codes for different questions. Discussions and further analysis of results from code will be provided in the PDF document.\u001B[0m\n\u001B[1;37m         ^\u001B[0m\n\u001B[1;31mSyntaxError\u001B[0m\u001B[1;31m:\u001B[0m invalid syntax\n"
     ]
    }
   ],
   "execution_count": null
  },
  {
   "cell_type": "markdown",
   "source": [
    "#### Imports for this report"
   ],
   "metadata": {
    "collapsed": false
   }
  },
  {
   "cell_type": "code",
   "execution_count": 713,
   "outputs": [],
   "source": [
    "import pandas as pd\n",
    "from sklearn.model_selection import train_test_split\n",
    "from sklearn.preprocessing import StandardScaler\n",
    "from sklearn.svm import SVC\n",
    "from sklearn.metrics import confusion_matrix, cohen_kappa_score"
   ],
   "metadata": {
    "collapsed": false
   }
  },
  {
   "cell_type": "markdown",
   "source": [
    "#### Reading the given csv file for credit scores"
   ],
   "metadata": {
    "collapsed": false
   }
  },
  {
   "cell_type": "code",
   "execution_count": 714,
   "outputs": [],
   "source": [
    "credit_scores = pd.read_csv(\"FIT1043-Credit-Scores-Dataset.csv\")"
   ],
   "metadata": {
    "collapsed": false
   }
  },
  {
   "cell_type": "markdown",
   "source": [
    "#### Descriptive Statistics for the dataset"
   ],
   "metadata": {
    "collapsed": false
   }
  },
  {
   "cell_type": "code",
   "execution_count": 715,
   "outputs": [
    {
     "data": {
      "text/plain": "                  ID        Month          Age   Occupation  Annual_Income  \\\ncount    2100.000000  2100.000000  2100.000000  2100.000000    2100.000000   \nmean    83333.452381     4.411429    33.197143     7.927619   51244.805155   \nstd     41013.880408     2.279068    10.754180     4.325104   38801.235929   \nmin     10033.000000     1.000000    14.000000     1.000000    7011.685000   \n25%     48108.000000     2.000000    24.000000     4.000000   19696.500000   \n50%     81490.000000     4.000000    33.000000     8.000000   37087.920000   \n75%    118895.250000     6.000000    42.000000    12.000000   73327.380000   \nmax    155610.000000     8.000000    56.000000    15.000000  179987.280000   \n\n       Monthly_Inhand_Salary  Num_Bank_Accounts  Num_Credit_Card  \\\ncount            2100.000000        2100.000000      2100.000000   \nmean             4255.554221           5.407143         5.576667   \nstd              3226.388893           2.553747         2.099327   \nmin               319.556250           0.000000         0.000000   \n25%              1641.972917           4.000000         4.000000   \n50%              3101.737500           6.000000         5.000000   \n75%              6118.762500           7.000000         7.000000   \nmax             15101.940000          11.000000        11.000000   \n\n       Interest_Rate  Num_of_Loan  ...   Credit_Mix  Outstanding_Debt  \\\ncount    2100.000000   2100.00000  ...  2100.000000       2100.000000   \nmean       14.532857      3.50619  ...     2.057619       1444.016295   \nstd         8.736433      2.47685  ...     0.731132       1186.545886   \nmin         1.000000      0.00000  ...     1.000000          0.230000   \n25%         7.000000      2.00000  ...     2.000000        566.605000   \n50%        13.000000      3.00000  ...     2.000000       1149.035000   \n75%        20.000000      5.00000  ...     3.000000       2001.147500   \nmax        34.000000      9.00000  ...     3.000000       4997.100000   \n\n       Credit_Utilization_Ratio  Credit_History_Age  Payment_of_Min_Amount  \\\ncount               2100.000000         2100.000000            2100.000000   \nmean                  32.379813          221.545714               0.522381   \nstd                    5.199365          100.110503               0.499618   \nmin                   21.359116            4.000000               0.000000   \n25%                   28.059563          142.000000               0.000000   \n50%                   32.402470          219.000000               1.000000   \n75%                   36.641141          303.000000               1.000000   \nmax                   46.724651          403.000000               1.000000   \n\n       Total_EMI_per_month  Amount_invested_monthly  Payment_Behaviour  \\\ncount          2100.000000              2100.000000        2100.000000   \nmean            110.411491                56.302384         153.554762   \nstd             138.536282                40.246618          49.702836   \nmin               0.000000                 0.000000         101.000000   \n25%              27.488358                27.842413         102.000000   \n50%              67.878526                46.803308         201.000000   \n75%             146.882432                73.229307         201.000000   \nmax            1779.103254               297.064670         203.000000   \n\n       Monthly_Balance  Credit_Score  \ncount      2100.000000   2100.000000  \nmean        399.349997      1.865714  \nstd         203.955200      0.674920  \nmin           7.438257      1.000000  \n25%         269.255129      1.000000  \n50%         337.412112      2.000000  \n75%         473.138717      2.000000  \nmax        1181.113695      3.000000  \n\n[8 rows x 24 columns]",
      "text/html": "<div>\n<style scoped>\n    .dataframe tbody tr th:only-of-type {\n        vertical-align: middle;\n    }\n\n    .dataframe tbody tr th {\n        vertical-align: top;\n    }\n\n    .dataframe thead th {\n        text-align: right;\n    }\n</style>\n<table border=\"1\" class=\"dataframe\">\n  <thead>\n    <tr style=\"text-align: right;\">\n      <th></th>\n      <th>ID</th>\n      <th>Month</th>\n      <th>Age</th>\n      <th>Occupation</th>\n      <th>Annual_Income</th>\n      <th>Monthly_Inhand_Salary</th>\n      <th>Num_Bank_Accounts</th>\n      <th>Num_Credit_Card</th>\n      <th>Interest_Rate</th>\n      <th>Num_of_Loan</th>\n      <th>...</th>\n      <th>Credit_Mix</th>\n      <th>Outstanding_Debt</th>\n      <th>Credit_Utilization_Ratio</th>\n      <th>Credit_History_Age</th>\n      <th>Payment_of_Min_Amount</th>\n      <th>Total_EMI_per_month</th>\n      <th>Amount_invested_monthly</th>\n      <th>Payment_Behaviour</th>\n      <th>Monthly_Balance</th>\n      <th>Credit_Score</th>\n    </tr>\n  </thead>\n  <tbody>\n    <tr>\n      <th>count</th>\n      <td>2100.000000</td>\n      <td>2100.000000</td>\n      <td>2100.000000</td>\n      <td>2100.000000</td>\n      <td>2100.000000</td>\n      <td>2100.000000</td>\n      <td>2100.000000</td>\n      <td>2100.000000</td>\n      <td>2100.000000</td>\n      <td>2100.00000</td>\n      <td>...</td>\n      <td>2100.000000</td>\n      <td>2100.000000</td>\n      <td>2100.000000</td>\n      <td>2100.000000</td>\n      <td>2100.000000</td>\n      <td>2100.000000</td>\n      <td>2100.000000</td>\n      <td>2100.000000</td>\n      <td>2100.000000</td>\n      <td>2100.000000</td>\n    </tr>\n    <tr>\n      <th>mean</th>\n      <td>83333.452381</td>\n      <td>4.411429</td>\n      <td>33.197143</td>\n      <td>7.927619</td>\n      <td>51244.805155</td>\n      <td>4255.554221</td>\n      <td>5.407143</td>\n      <td>5.576667</td>\n      <td>14.532857</td>\n      <td>3.50619</td>\n      <td>...</td>\n      <td>2.057619</td>\n      <td>1444.016295</td>\n      <td>32.379813</td>\n      <td>221.545714</td>\n      <td>0.522381</td>\n      <td>110.411491</td>\n      <td>56.302384</td>\n      <td>153.554762</td>\n      <td>399.349997</td>\n      <td>1.865714</td>\n    </tr>\n    <tr>\n      <th>std</th>\n      <td>41013.880408</td>\n      <td>2.279068</td>\n      <td>10.754180</td>\n      <td>4.325104</td>\n      <td>38801.235929</td>\n      <td>3226.388893</td>\n      <td>2.553747</td>\n      <td>2.099327</td>\n      <td>8.736433</td>\n      <td>2.47685</td>\n      <td>...</td>\n      <td>0.731132</td>\n      <td>1186.545886</td>\n      <td>5.199365</td>\n      <td>100.110503</td>\n      <td>0.499618</td>\n      <td>138.536282</td>\n      <td>40.246618</td>\n      <td>49.702836</td>\n      <td>203.955200</td>\n      <td>0.674920</td>\n    </tr>\n    <tr>\n      <th>min</th>\n      <td>10033.000000</td>\n      <td>1.000000</td>\n      <td>14.000000</td>\n      <td>1.000000</td>\n      <td>7011.685000</td>\n      <td>319.556250</td>\n      <td>0.000000</td>\n      <td>0.000000</td>\n      <td>1.000000</td>\n      <td>0.00000</td>\n      <td>...</td>\n      <td>1.000000</td>\n      <td>0.230000</td>\n      <td>21.359116</td>\n      <td>4.000000</td>\n      <td>0.000000</td>\n      <td>0.000000</td>\n      <td>0.000000</td>\n      <td>101.000000</td>\n      <td>7.438257</td>\n      <td>1.000000</td>\n    </tr>\n    <tr>\n      <th>25%</th>\n      <td>48108.000000</td>\n      <td>2.000000</td>\n      <td>24.000000</td>\n      <td>4.000000</td>\n      <td>19696.500000</td>\n      <td>1641.972917</td>\n      <td>4.000000</td>\n      <td>4.000000</td>\n      <td>7.000000</td>\n      <td>2.00000</td>\n      <td>...</td>\n      <td>2.000000</td>\n      <td>566.605000</td>\n      <td>28.059563</td>\n      <td>142.000000</td>\n      <td>0.000000</td>\n      <td>27.488358</td>\n      <td>27.842413</td>\n      <td>102.000000</td>\n      <td>269.255129</td>\n      <td>1.000000</td>\n    </tr>\n    <tr>\n      <th>50%</th>\n      <td>81490.000000</td>\n      <td>4.000000</td>\n      <td>33.000000</td>\n      <td>8.000000</td>\n      <td>37087.920000</td>\n      <td>3101.737500</td>\n      <td>6.000000</td>\n      <td>5.000000</td>\n      <td>13.000000</td>\n      <td>3.00000</td>\n      <td>...</td>\n      <td>2.000000</td>\n      <td>1149.035000</td>\n      <td>32.402470</td>\n      <td>219.000000</td>\n      <td>1.000000</td>\n      <td>67.878526</td>\n      <td>46.803308</td>\n      <td>201.000000</td>\n      <td>337.412112</td>\n      <td>2.000000</td>\n    </tr>\n    <tr>\n      <th>75%</th>\n      <td>118895.250000</td>\n      <td>6.000000</td>\n      <td>42.000000</td>\n      <td>12.000000</td>\n      <td>73327.380000</td>\n      <td>6118.762500</td>\n      <td>7.000000</td>\n      <td>7.000000</td>\n      <td>20.000000</td>\n      <td>5.00000</td>\n      <td>...</td>\n      <td>3.000000</td>\n      <td>2001.147500</td>\n      <td>36.641141</td>\n      <td>303.000000</td>\n      <td>1.000000</td>\n      <td>146.882432</td>\n      <td>73.229307</td>\n      <td>201.000000</td>\n      <td>473.138717</td>\n      <td>2.000000</td>\n    </tr>\n    <tr>\n      <th>max</th>\n      <td>155610.000000</td>\n      <td>8.000000</td>\n      <td>56.000000</td>\n      <td>15.000000</td>\n      <td>179987.280000</td>\n      <td>15101.940000</td>\n      <td>11.000000</td>\n      <td>11.000000</td>\n      <td>34.000000</td>\n      <td>9.00000</td>\n      <td>...</td>\n      <td>3.000000</td>\n      <td>4997.100000</td>\n      <td>46.724651</td>\n      <td>403.000000</td>\n      <td>1.000000</td>\n      <td>1779.103254</td>\n      <td>297.064670</td>\n      <td>203.000000</td>\n      <td>1181.113695</td>\n      <td>3.000000</td>\n    </tr>\n  </tbody>\n</table>\n<p>8 rows × 24 columns</p>\n</div>"
     },
     "execution_count": 715,
     "metadata": {},
     "output_type": "execute_result"
    }
   ],
   "source": [
    "credit_scores.describe()"
   ],
   "metadata": {
    "collapsed": false
   }
  },
  {
   "cell_type": "markdown",
   "source": [
    "#### Computing the Correlation Coefficients between Credit_Score and every other column"
   ],
   "metadata": {
    "collapsed": false
   }
  },
  {
   "cell_type": "code",
   "execution_count": 716,
   "outputs": [
    {
     "data": {
      "text/plain": "Credit_Score                1.000000\nCredit_Mix                  0.484907\nCredit_History_Age          0.395466\nMonthly_Balance             0.225686\nAnnual_Income               0.221317\nMonthly_Inhand_Salary       0.216986\nAmount_invested_monthly     0.179008\nAge                         0.126065\nCredit_Utilization_Ratio    0.077528\nTotal_EMI_per_month         0.015477\nMonth                      -0.005878\nID                         -0.026606\nOccupation                 -0.028465\nPayment_Behaviour          -0.106978\nChanged_Credit_Limit       -0.168301\nNum_Bank_Accounts          -0.368232\nNum_of_Delayed_Payment     -0.372057\nNum_of_Loan                -0.373984\nPayment_of_Min_Amount      -0.376792\nOutstanding_Debt           -0.379331\nDelay_from_due_date        -0.409188\nNum_Credit_Card            -0.413036\nNum_Credit_Inquiries       -0.426879\nInterest_Rate              -0.474586\nName: Credit_Score, dtype: float64"
     },
     "execution_count": 716,
     "metadata": {},
     "output_type": "execute_result"
    }
   ],
   "source": [
    "corr_matrix = credit_scores.corr()\n",
    "\n",
    "# Extract the correlations between \"Credit_Score\" and all other columns\n",
    "credit_score_corr = corr_matrix.loc['Credit_Score', :]\n",
    "\n",
    "corr_matrix[\"Credit_Score\"].sort_values(ascending=False)"
   ],
   "metadata": {
    "collapsed": false
   }
  },
  {
   "cell_type": "markdown",
   "source": [
    "#### Splitting the dataset into features and labels"
   ],
   "metadata": {
    "collapsed": false
   }
  },
  {
   "cell_type": "code",
   "execution_count": 717,
   "outputs": [],
   "source": [
    "features = [\"Credit_Mix\",\n",
    " \"Credit_History_Age\",\n",
    " \"Monthly_Balance\",\n",
    " \"Annual_Income\",\n",
    " \"Monthly_Inhand_Salary\",\n",
    " \"Num_Bank_Accounts\",\n",
    " \"Num_of_Delayed_Payment\",\n",
    " \"Num_of_Loan\",\n",
    " \"Payment_of_Min_Amount\",\n",
    " \"Outstanding_Debt\",\n",
    " \"Delay_from_due_date\",\n",
    " \"Num_Credit_Card\",\n",
    " \"Num_Credit_Inquiries\",\n",
    " \"Interest_Rate\"]\n",
    "\n",
    "X = credit_scores[features].values\n",
    "Y = credit_scores.iloc[:, -1].values"
   ],
   "metadata": {
    "collapsed": false
   }
  },
  {
   "cell_type": "markdown",
   "source": [
    "#### Splitting features and labels for training and testing\n",
    "\n",
    "For this report, we will be splitting the dataset into 75% for training and 25% for testing."
   ],
   "metadata": {
    "collapsed": false
   }
  },
  {
   "cell_type": "code",
   "execution_count": 718,
   "outputs": [],
   "source": [
    "X_train, X_test, Y_train, Y_test = train_test_split(X, Y, test_size=0.25, random_state=0)"
   ],
   "metadata": {
    "collapsed": false
   }
  },
  {
   "cell_type": "markdown",
   "source": [
    "#### Scalling data using StandardScaler"
   ],
   "metadata": {
    "collapsed": false
   }
  },
  {
   "cell_type": "code",
   "execution_count": 719,
   "outputs": [],
   "source": [
    "sc = StandardScaler()\n",
    "X_train = sc.fit_transform(X_train)\n",
    "X_test = sc.transform(X_test)"
   ],
   "metadata": {
    "collapsed": false
   }
  },
  {
   "cell_type": "markdown",
   "source": [
    "#### Training the SVC model"
   ],
   "metadata": {
    "collapsed": false
   }
  },
  {
   "cell_type": "code",
   "execution_count": 720,
   "outputs": [],
   "source": [
    "svm_model = SVC(kernel='rbf')\n",
    "svm_model.fit(X_train, Y_train)\n",
    "Y_pred = svm_model.predict(X_test)"
   ],
   "metadata": {
    "collapsed": false
   }
  },
  {
   "cell_type": "code",
   "execution_count": 721,
   "outputs": [
    {
     "data": {
      "text/plain": "array([2, 3, 1, 2, 2, 2, 3, 2, 1, 2, 2, 1, 2, 3, 2, 2, 2, 3, 2, 2, 2, 3,\n       2, 1, 2, 1, 1, 1, 2, 2, 2, 2, 2, 2, 2, 2, 2, 2, 3, 2, 2, 2, 2, 2,\n       2, 2, 2, 2, 1, 1, 2, 2, 2, 2, 2, 3, 3, 1, 1, 2, 3, 2, 2, 2, 1, 1,\n       3, 2, 2, 2, 2, 1, 3, 3, 3, 1, 1, 3, 1, 1, 3, 1, 2, 1, 2, 2, 2, 2,\n       2, 3, 3, 2, 3, 3, 2, 2, 3, 2, 2, 2, 2, 1, 1, 2, 1, 3, 2, 2, 2, 1,\n       3, 2, 1, 2, 2, 2, 1, 2, 2, 2, 3, 2, 3, 2, 2, 2, 2, 1, 2, 3, 2, 2,\n       1, 1, 2, 3, 3, 3, 1, 3, 2, 2, 2, 2, 3, 2, 2, 2, 3, 2, 3, 2, 2, 1,\n       1, 2, 1, 2, 2, 2, 3, 1, 1, 1, 3, 1, 3, 2, 2, 2, 1, 2, 1, 2, 2, 2,\n       3, 3, 2, 1, 2, 3, 2, 2, 2, 2, 2, 2, 2, 1, 2, 3, 2, 2, 2, 2, 1, 2,\n       2, 2, 1, 1, 2, 2, 2, 2, 1, 2, 2, 2, 2, 2, 2, 1, 1, 1, 2, 2, 3, 2,\n       2, 3, 1, 1, 2, 2, 3, 1, 2, 3, 2, 3, 2, 2, 2, 2, 3, 2, 1, 1, 1, 2,\n       1, 2, 2, 1, 2, 2, 3, 2, 2, 3, 2, 1, 2, 2, 1, 2, 2, 3, 2, 1, 2, 1,\n       2, 1, 2, 2, 3, 1, 2, 2, 2, 1, 3, 3, 2, 1, 2, 1, 3, 1, 2, 3, 2, 2,\n       2, 2, 1, 2, 1, 3, 2, 2, 1, 3, 2, 3, 1, 1, 2, 1, 1, 2, 1, 2, 3, 2,\n       1, 2, 3, 2, 1, 2, 3, 3, 1, 3, 3, 1, 1, 1, 2, 3, 1, 1, 2, 2, 3, 3,\n       2, 2, 1, 2, 3, 2, 2, 2, 2, 2, 2, 2, 1, 2, 1, 3, 3, 1, 2, 2, 3, 2,\n       3, 3, 3, 2, 3, 1, 1, 1, 2, 1, 3, 2, 2, 1, 3, 2, 3, 1, 2, 2, 2, 3,\n       3, 2, 1, 2, 1, 1, 3, 1, 1, 1, 2, 2, 2, 2, 1, 1, 1, 3, 1, 1, 2, 2,\n       2, 1, 2, 1, 1, 2, 3, 3, 1, 2, 1, 2, 1, 2, 1, 3, 2, 1, 3, 2, 2, 2,\n       2, 2, 3, 2, 1, 2, 2, 1, 2, 3, 2, 2, 3, 3, 1, 2, 2, 1, 3, 1, 3, 3,\n       2, 2, 1, 1, 2, 2, 2, 1, 1, 3, 1, 3, 2, 1, 1, 1, 2, 1, 2, 3, 2, 2,\n       2, 2, 2, 1, 1, 3, 3, 2, 1, 2, 1, 2, 3, 2, 3, 1, 2, 3, 3, 2, 2, 1,\n       1, 1, 1, 1, 2, 1, 1, 3, 2, 1, 2, 1, 1, 1, 3, 2, 2, 1, 1, 3, 2, 2,\n       2, 2, 2, 1, 2, 2, 2, 3, 2, 2, 2, 3, 2, 2, 2, 1, 3, 2, 1],\n      dtype=int64)"
     },
     "execution_count": 721,
     "metadata": {},
     "output_type": "execute_result"
    }
   ],
   "source": [
    "Y_pred"
   ],
   "metadata": {
    "collapsed": false
   }
  },
  {
   "cell_type": "markdown",
   "source": [
    "#### Confusion Matrix"
   ],
   "metadata": {
    "collapsed": false
   }
  },
  {
   "cell_type": "code",
   "execution_count": 722,
   "outputs": [],
   "source": [
    "cm = confusion_matrix(Y_test, Y_pred)"
   ],
   "metadata": {
    "collapsed": false
   }
  },
  {
   "cell_type": "code",
   "execution_count": 723,
   "outputs": [
    {
     "data": {
      "text/plain": "array([[ 95,  44,  15],\n       [ 50, 198,  34],\n       [  1,  31,  57]], dtype=int64)"
     },
     "execution_count": 723,
     "metadata": {},
     "output_type": "execute_result"
    }
   ],
   "source": [
    "cm"
   ],
   "metadata": {
    "collapsed": false
   }
  },
  {
   "cell_type": "code",
   "execution_count": 724,
   "outputs": [],
   "source": [
    "qwk_score = cohen_kappa_score(Y_test, Y_pred, weights='quadratic')"
   ],
   "metadata": {
    "collapsed": false
   }
  },
  {
   "cell_type": "code",
   "execution_count": 725,
   "outputs": [
    {
     "data": {
      "text/plain": "0.5402964562677923"
     },
     "execution_count": 725,
     "metadata": {},
     "output_type": "execute_result"
    }
   ],
   "source": [
    "qwk_score"
   ],
   "metadata": {
    "collapsed": false
   }
  },
  {
   "cell_type": "markdown",
   "source": [
    "#### Code for predicting file used for kaggle submission"
   ],
   "metadata": {
    "collapsed": false
   }
  },
  {
   "cell_type": "code",
   "execution_count": 726,
   "outputs": [],
   "source": [
    "kaggle_credit_scores = pd.read_csv(\"FIT1043-Credit-Scores-Submission.csv\")"
   ],
   "metadata": {
    "collapsed": false
   }
  },
  {
   "cell_type": "code",
   "execution_count": 727,
   "outputs": [],
   "source": [
    "kaggle_test = kaggle_credit_scores[features].values\n",
    "kaggle_X = sc.fit_transform(kaggle_test)\n",
    "prediction = svm_model.predict(kaggle_X)"
   ],
   "metadata": {
    "collapsed": false
   }
  },
  {
   "cell_type": "code",
   "execution_count": 728,
   "outputs": [],
   "source": [
    "output = pd.DataFrame({'ID': kaggle_credit_scores['ID'], 'Credit_Score': prediction})\n",
    "output.to_csv('33561826-BrandonWeeYongJing-v7.csv', index=False)"
   ],
   "metadata": {
    "collapsed": false
   }
  },
  {
   "cell_type": "code",
   "execution_count": 729,
   "outputs": [
    {
     "data": {
      "text/plain": "array([1, 1, 2, 2, 2, 3, 3, 2, 2, 2, 2, 2, 3, 1, 1, 2, 2, 1, 1, 1, 2, 2,\n       2, 1, 2, 2, 2, 2, 2, 2, 2, 3, 1, 3, 1, 1, 1, 1, 2, 3, 3, 2, 2, 1,\n       1, 2, 2, 1, 2, 1, 2, 2, 1, 3, 1, 2, 2, 3, 2, 1, 2, 3, 3, 1, 2, 2,\n       1, 2, 2, 3, 3, 2, 2, 1, 2, 2, 2, 2, 2, 2, 2, 3, 1, 1, 2, 1, 2, 2,\n       2, 2, 2, 2, 3, 1, 1, 2, 2, 2, 2, 3, 1, 3, 2, 3, 2, 2, 1, 2, 2, 3,\n       2, 1, 3, 1, 3, 2, 1, 2, 3, 2, 3, 2, 1, 2, 2, 1, 3, 2, 2, 1, 2, 1,\n       2, 2, 1, 1, 1, 1, 1, 1, 1, 2, 3, 3, 1, 1, 1, 1, 2, 3, 2, 1, 1, 2,\n       2, 2, 2, 1, 2, 1, 2, 3, 2, 1, 1, 1, 1, 3, 2, 2, 3, 2, 3, 2, 1, 2,\n       2, 2, 1, 2, 1, 2, 2, 1, 2, 1, 2, 2, 1, 2, 3, 2, 1, 1, 3, 3, 2, 3,\n       2, 3, 1, 2, 2, 2, 2, 1, 2, 2, 2, 2, 3, 2, 1, 2, 3, 1, 1, 2, 2, 2,\n       3, 2, 3, 1, 2, 3, 2, 3, 2, 2, 2, 3, 1, 2, 2, 2, 2, 1, 2, 2, 1, 1,\n       1, 1, 2, 1, 2, 2, 1, 1, 2, 2, 3, 2, 1, 3, 2, 3, 2, 2, 2, 2, 3, 3,\n       1, 3, 1, 3, 3, 2, 3, 2, 1, 1, 2, 1, 2, 2, 3, 2, 1, 1, 3, 2, 1, 3,\n       2, 2, 3, 3, 2, 2, 3, 2, 2, 1, 1, 3, 2, 1, 2, 2, 3, 2, 2, 1, 2, 1,\n       1, 3, 2, 3, 3, 3, 3, 2, 1, 3, 1, 1, 2, 2, 2, 2, 2, 1, 3, 2, 2, 1,\n       3, 2, 1, 1, 1, 2, 2, 2, 1, 2, 1, 2, 1, 2, 3, 2, 3, 1, 3, 3, 2, 2,\n       1, 1, 3, 1, 2, 2, 1, 2, 3, 2, 1, 2, 1, 2, 2, 2, 1, 2, 1, 1, 2, 1,\n       2, 2, 2, 1, 1, 1, 3, 2, 3, 1, 2, 3, 2, 1, 3, 2, 3, 2, 2, 1, 1, 1,\n       2, 2, 2, 2, 1, 1, 2, 1, 1, 1, 2, 3, 2, 3, 3, 2, 3, 2, 2, 1, 2, 1,\n       2, 1, 2, 1, 1, 2, 1, 2, 1, 3, 1, 2, 2, 3, 3, 3, 2, 3, 3, 3, 1, 1,\n       2, 1, 1, 2, 2, 1, 3, 2, 1, 1, 2, 2, 1, 2, 3, 2, 2, 2, 2, 2, 1, 3,\n       3, 2, 3, 1, 2, 3, 3, 2, 2, 2, 2, 3, 3, 2, 2, 1, 3, 3, 1, 1, 2, 1,\n       1, 2, 1, 2, 2, 2, 2, 2, 3, 3, 1, 2, 2, 1, 2, 1, 3, 1, 3, 1, 2, 3,\n       2, 2, 2, 2, 2, 1, 2, 2, 2, 2, 2, 3, 1, 2, 2, 1, 1, 2, 3, 1, 1, 1,\n       3, 2, 2, 1, 2, 3, 1, 1, 1, 2, 1, 3, 1, 2, 2, 2, 2, 2, 2, 1, 2, 2,\n       3, 3, 2, 2, 2, 1, 2, 3, 3, 2, 2, 2, 2, 1, 2, 1, 1, 2, 1, 2, 2, 2,\n       1, 3, 2, 2, 2, 2, 1, 2, 1, 2, 2, 1, 2, 3, 3, 2, 2, 2, 3, 1, 2, 2,\n       2, 3, 3, 2, 1, 2, 2, 3, 1, 1, 2, 2, 3, 2, 3, 2, 3, 2, 3, 2, 2, 2,\n       2, 2, 2, 2, 2, 1, 2, 2, 2, 1, 1, 1, 2, 2, 3, 3, 3, 2, 1, 2, 1, 2,\n       3, 2, 3, 1, 2, 1, 1, 1, 1, 2, 1, 2, 1, 2, 2, 3, 3, 3, 1, 1, 3, 3,\n       2, 2, 2, 2, 2, 2, 1, 1, 1, 2, 2, 1, 2, 3, 2, 2, 1, 1, 3, 2, 1, 1,\n       3, 3, 2, 2, 3, 1, 2, 1, 1, 3, 2, 3, 1, 1, 1, 3, 2, 2, 2, 2, 3, 3,\n       1, 2, 2, 3, 1, 2, 2, 2, 2, 1, 1, 3, 2, 2, 2, 3, 1, 2, 2, 1, 2, 2,\n       1, 1, 2, 2, 3, 3, 1, 3, 1, 3, 2, 1, 2, 3, 1, 2, 1, 1, 2, 2, 2, 2,\n       1, 2, 2, 2, 2, 2, 3, 2, 2, 2, 2, 2, 2, 2, 3, 1, 2, 2, 2, 1, 1, 2,\n       2, 2, 2, 2, 1, 2, 2, 2, 1, 1, 2, 2, 1, 1, 1, 2, 1, 2, 1, 1, 2, 2,\n       2, 2, 2, 2, 2, 1, 3, 2, 1, 3, 2, 3, 1, 2, 1, 2, 1, 3, 1, 1, 1, 2,\n       3, 2, 3, 2, 3, 1, 1, 1, 3, 3, 2, 2, 1, 1, 2, 2, 2, 2, 2, 1, 2, 1,\n       2, 1, 2, 2, 2, 1, 2, 1, 2, 2, 3, 2, 3, 2, 1, 2, 3, 1, 2, 1, 1, 2,\n       3, 1, 2, 1, 1, 2, 3, 1, 3, 1, 2, 1, 2, 1, 1, 3, 1, 2, 2, 1, 2, 2,\n       1, 1, 2, 1, 1, 2, 1, 1, 1, 3, 1, 3, 1, 3, 2, 2, 2, 2, 2, 2],\n      dtype=int64)"
     },
     "execution_count": 729,
     "metadata": {},
     "output_type": "execute_result"
    }
   ],
   "source": [
    "prediction"
   ],
   "metadata": {
    "collapsed": false
   }
  },
  {
   "cell_type": "code",
   "execution_count": 729,
   "outputs": [],
   "source": [],
   "metadata": {
    "collapsed": false
   }
  }
 ],
 "metadata": {
  "kernelspec": {
   "display_name": "Python 3",
   "language": "python",
   "name": "python3"
  },
  "language_info": {
   "codemirror_mode": {
    "name": "ipython",
    "version": 2
   },
   "file_extension": ".py",
   "mimetype": "text/x-python",
   "name": "python",
   "nbconvert_exporter": "python",
   "pygments_lexer": "ipython2",
   "version": "2.7.6"
  }
 },
 "nbformat": 4,
 "nbformat_minor": 0
}
